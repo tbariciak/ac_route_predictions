{
 "metadata": {
  "language_info": {
   "codemirror_mode": {
    "name": "ipython",
    "version": 3
   },
   "file_extension": ".py",
   "mimetype": "text/x-python",
   "name": "python",
   "nbconvert_exporter": "python",
   "pygments_lexer": "ipython3",
   "version": "3.9.0-final"
  },
  "orig_nbformat": 2,
  "kernelspec": {
   "name": "python3",
   "display_name": "Python 3",
   "language": "python"
  }
 },
 "nbformat": 4,
 "nbformat_minor": 2,
 "cells": [
  {
   "cell_type": "code",
   "execution_count": 1,
   "metadata": {},
   "outputs": [],
   "source": [
    "import pickle\n",
    "import pandas as pd\n",
    "from sklearn.preprocessing import StandardScaler\n",
    "from sklearn.model_selection import train_test_split"
   ]
  },
  {
   "cell_type": "code",
   "execution_count": 2,
   "metadata": {},
   "outputs": [
    {
     "output_type": "execute_result",
     "data": {
      "text/plain": [
       "       Latitude   Longitude\n",
       "Code                       \n",
       "GKA   -6.081690  145.391998\n",
       "MAG   -5.207080  145.789001\n",
       "HGU   -5.826790  144.296005\n",
       "LAE   -6.569803  146.725977\n",
       "POM   -9.443380  147.220001\n",
       "...         ...         ...\n",
       "UGU   -3.739560  137.031998\n",
       "ETM   29.723694   35.011416\n",
       "MNH   23.640556   57.487500\n",
       "CGY    8.612203  124.456496\n",
       "CPO  -27.261200  -70.779198\n",
       "\n",
       "[6072 rows x 2 columns]"
      ],
      "text/html": "<div>\n<style scoped>\n    .dataframe tbody tr th:only-of-type {\n        vertical-align: middle;\n    }\n\n    .dataframe tbody tr th {\n        vertical-align: top;\n    }\n\n    .dataframe thead th {\n        text-align: right;\n    }\n</style>\n<table border=\"1\" class=\"dataframe\">\n  <thead>\n    <tr style=\"text-align: right;\">\n      <th></th>\n      <th>Latitude</th>\n      <th>Longitude</th>\n    </tr>\n    <tr>\n      <th>Code</th>\n      <th></th>\n      <th></th>\n    </tr>\n  </thead>\n  <tbody>\n    <tr>\n      <th>GKA</th>\n      <td>-6.081690</td>\n      <td>145.391998</td>\n    </tr>\n    <tr>\n      <th>MAG</th>\n      <td>-5.207080</td>\n      <td>145.789001</td>\n    </tr>\n    <tr>\n      <th>HGU</th>\n      <td>-5.826790</td>\n      <td>144.296005</td>\n    </tr>\n    <tr>\n      <th>LAE</th>\n      <td>-6.569803</td>\n      <td>146.725977</td>\n    </tr>\n    <tr>\n      <th>POM</th>\n      <td>-9.443380</td>\n      <td>147.220001</td>\n    </tr>\n    <tr>\n      <th>...</th>\n      <td>...</td>\n      <td>...</td>\n    </tr>\n    <tr>\n      <th>UGU</th>\n      <td>-3.739560</td>\n      <td>137.031998</td>\n    </tr>\n    <tr>\n      <th>ETM</th>\n      <td>29.723694</td>\n      <td>35.011416</td>\n    </tr>\n    <tr>\n      <th>MNH</th>\n      <td>23.640556</td>\n      <td>57.487500</td>\n    </tr>\n    <tr>\n      <th>CGY</th>\n      <td>8.612203</td>\n      <td>124.456496</td>\n    </tr>\n    <tr>\n      <th>CPO</th>\n      <td>-27.261200</td>\n      <td>-70.779198</td>\n    </tr>\n  </tbody>\n</table>\n<p>6072 rows × 2 columns</p>\n</div>"
     },
     "metadata": {},
     "execution_count": 2
    }
   ],
   "source": [
    "# load in airports dataset\n",
    "airports_df = pd.read_csv('airports.csv', names=['Code', 'Latitude', 'Longitude'], header=None)\n",
    "\n",
    "# remove entries with invalid codes\n",
    "airports_df = airports_df[airports_df['Code'] != '\\\\N']\n",
    "airports_df.set_index('Code', inplace=True)\n",
    "airports_df"
   ]
  },
  {
   "cell_type": "code",
   "execution_count": 3,
   "metadata": {},
   "outputs": [
    {
     "output_type": "execute_result",
     "data": {
      "text/plain": [
       "    Departure city Arrival city Aircraft type  Distance (km)  \\\n",
       "0              YYZ          AUH           789          11132   \n",
       "1              YYZ          AMS           333           5987   \n",
       "2              YYZ          ANU           320           3382   \n",
       "3              YYZ          AUA           320           3577   \n",
       "4              YYZ          ATH           789           8140   \n",
       "..             ...          ...           ...            ...   \n",
       "124            YYZ          DCA           E75            580   \n",
       "125            YYZ          PBI           319           1893   \n",
       "126            YYZ          YQG           DH3            296   \n",
       "127            YYZ          YWG           320           1517   \n",
       "128            YYZ          ZRH           789           6496   \n",
       "\n",
       "     Frequency (days/wk)  \n",
       "0                      3  \n",
       "1                      7  \n",
       "2                      2  \n",
       "3                      2  \n",
       "4                      3  \n",
       "..                   ...  \n",
       "124                    7  \n",
       "125                    7  \n",
       "126                    6  \n",
       "127                    7  \n",
       "128                    7  \n",
       "\n",
       "[129 rows x 5 columns]"
      ],
      "text/html": "<div>\n<style scoped>\n    .dataframe tbody tr th:only-of-type {\n        vertical-align: middle;\n    }\n\n    .dataframe tbody tr th {\n        vertical-align: top;\n    }\n\n    .dataframe thead th {\n        text-align: right;\n    }\n</style>\n<table border=\"1\" class=\"dataframe\">\n  <thead>\n    <tr style=\"text-align: right;\">\n      <th></th>\n      <th>Departure city</th>\n      <th>Arrival city</th>\n      <th>Aircraft type</th>\n      <th>Distance (km)</th>\n      <th>Frequency (days/wk)</th>\n    </tr>\n  </thead>\n  <tbody>\n    <tr>\n      <th>0</th>\n      <td>YYZ</td>\n      <td>AUH</td>\n      <td>789</td>\n      <td>11132</td>\n      <td>3</td>\n    </tr>\n    <tr>\n      <th>1</th>\n      <td>YYZ</td>\n      <td>AMS</td>\n      <td>333</td>\n      <td>5987</td>\n      <td>7</td>\n    </tr>\n    <tr>\n      <th>2</th>\n      <td>YYZ</td>\n      <td>ANU</td>\n      <td>320</td>\n      <td>3382</td>\n      <td>2</td>\n    </tr>\n    <tr>\n      <th>3</th>\n      <td>YYZ</td>\n      <td>AUA</td>\n      <td>320</td>\n      <td>3577</td>\n      <td>2</td>\n    </tr>\n    <tr>\n      <th>4</th>\n      <td>YYZ</td>\n      <td>ATH</td>\n      <td>789</td>\n      <td>8140</td>\n      <td>3</td>\n    </tr>\n    <tr>\n      <th>...</th>\n      <td>...</td>\n      <td>...</td>\n      <td>...</td>\n      <td>...</td>\n      <td>...</td>\n    </tr>\n    <tr>\n      <th>124</th>\n      <td>YYZ</td>\n      <td>DCA</td>\n      <td>E75</td>\n      <td>580</td>\n      <td>7</td>\n    </tr>\n    <tr>\n      <th>125</th>\n      <td>YYZ</td>\n      <td>PBI</td>\n      <td>319</td>\n      <td>1893</td>\n      <td>7</td>\n    </tr>\n    <tr>\n      <th>126</th>\n      <td>YYZ</td>\n      <td>YQG</td>\n      <td>DH3</td>\n      <td>296</td>\n      <td>6</td>\n    </tr>\n    <tr>\n      <th>127</th>\n      <td>YYZ</td>\n      <td>YWG</td>\n      <td>320</td>\n      <td>1517</td>\n      <td>7</td>\n    </tr>\n    <tr>\n      <th>128</th>\n      <td>YYZ</td>\n      <td>ZRH</td>\n      <td>789</td>\n      <td>6496</td>\n      <td>7</td>\n    </tr>\n  </tbody>\n</table>\n<p>129 rows × 5 columns</p>\n</div>"
     },
     "metadata": {},
     "execution_count": 3
    }
   ],
   "source": [
    "# load in dataset of AirCanada routes originating from YYZ\n",
    "yyz_routes_df = pd.read_csv('ac_routes.csv')\n",
    "yyz_routes_df"
   ]
  },
  {
   "cell_type": "code",
   "execution_count": 4,
   "metadata": {},
   "outputs": [
    {
     "output_type": "stream",
     "name": "stdout",
     "text": [
      "Number of Missing Entries by Column\n"
     ]
    },
    {
     "output_type": "execute_result",
     "data": {
      "text/plain": [
       "Departure city         0\n",
       "Arrival city           0\n",
       "Aircraft type          0\n",
       "Distance (km)          0\n",
       "Frequency (days/wk)    0\n",
       "dtype: int64"
      ]
     },
     "metadata": {},
     "execution_count": 4
    }
   ],
   "source": [
    "# check for missing data\n",
    "print('Number of Missing Entries by Column')\n",
    "yyz_routes_df.isnull().sum()"
   ]
  },
  {
   "cell_type": "code",
   "execution_count": 5,
   "metadata": {},
   "outputs": [
    {
     "output_type": "stream",
     "name": "stdout",
     "text": [
      "<class 'pandas.core.frame.DataFrame'>\nRangeIndex: 129 entries, 0 to 128\nData columns (total 5 columns):\n #   Column               Non-Null Count  Dtype \n---  ------               --------------  ----- \n 0   Departure city       129 non-null    object\n 1   Arrival city         129 non-null    object\n 2   Aircraft type        129 non-null    object\n 3   Distance (km)        129 non-null    int64 \n 4   Frequency (days/wk)  129 non-null    int64 \ndtypes: int64(2), object(3)\nmemory usage: 5.2+ KB\n"
     ]
    }
   ],
   "source": [
    "# check data types\n",
    "yyz_routes_df.info()"
   ]
  },
  {
   "cell_type": "code",
   "execution_count": 6,
   "metadata": {},
   "outputs": [
    {
     "output_type": "execute_result",
     "data": {
      "text/plain": [
       "       Distance (km)  Frequency (days/wk)\n",
       "count     129.000000           129.000000\n",
       "mean     3500.674419             5.658915\n",
       "std      2992.901146             2.001937\n",
       "min       145.000000             1.000000\n",
       "25%      1218.000000             4.000000\n",
       "50%      2708.000000             7.000000\n",
       "75%      4069.000000             7.000000\n",
       "max     12601.000000             7.000000"
      ],
      "text/html": "<div>\n<style scoped>\n    .dataframe tbody tr th:only-of-type {\n        vertical-align: middle;\n    }\n\n    .dataframe tbody tr th {\n        vertical-align: top;\n    }\n\n    .dataframe thead th {\n        text-align: right;\n    }\n</style>\n<table border=\"1\" class=\"dataframe\">\n  <thead>\n    <tr style=\"text-align: right;\">\n      <th></th>\n      <th>Distance (km)</th>\n      <th>Frequency (days/wk)</th>\n    </tr>\n  </thead>\n  <tbody>\n    <tr>\n      <th>count</th>\n      <td>129.000000</td>\n      <td>129.000000</td>\n    </tr>\n    <tr>\n      <th>mean</th>\n      <td>3500.674419</td>\n      <td>5.658915</td>\n    </tr>\n    <tr>\n      <th>std</th>\n      <td>2992.901146</td>\n      <td>2.001937</td>\n    </tr>\n    <tr>\n      <th>min</th>\n      <td>145.000000</td>\n      <td>1.000000</td>\n    </tr>\n    <tr>\n      <th>25%</th>\n      <td>1218.000000</td>\n      <td>4.000000</td>\n    </tr>\n    <tr>\n      <th>50%</th>\n      <td>2708.000000</td>\n      <td>7.000000</td>\n    </tr>\n    <tr>\n      <th>75%</th>\n      <td>4069.000000</td>\n      <td>7.000000</td>\n    </tr>\n    <tr>\n      <th>max</th>\n      <td>12601.000000</td>\n      <td>7.000000</td>\n    </tr>\n  </tbody>\n</table>\n</div>"
     },
     "metadata": {},
     "execution_count": 6
    }
   ],
   "source": [
    "# numerical statistics\n",
    "yyz_routes_df.describe()"
   ]
  },
  {
   "cell_type": "code",
   "execution_count": 7,
   "metadata": {},
   "outputs": [
    {
     "output_type": "execute_result",
     "data": {
      "text/plain": [
       "    Aircraft type  Distance (km)  Frequency (days/wk)  Arrival latitude  \\\n",
       "0             789          11132                    3         24.433001   \n",
       "1             333           5987                    7         52.308601   \n",
       "2             320           3382                    2         17.136700   \n",
       "3             320           3577                    2         12.501400   \n",
       "4             789           8140                    3         37.936401   \n",
       "..            ...            ...                  ...               ...   \n",
       "124           E75            580                    7         38.852100   \n",
       "125           319           1893                    7         26.683201   \n",
       "126           DH3            296                    6         42.275600   \n",
       "127           320           1517                    7         49.910000   \n",
       "128           789           6496                    7         47.464699   \n",
       "\n",
       "     Arrival longitude  \n",
       "0            54.651100  \n",
       "1             4.763890  \n",
       "2           -61.792702  \n",
       "3           -70.015198  \n",
       "4            23.944500  \n",
       "..                 ...  \n",
       "124         -77.037697  \n",
       "125         -80.095596  \n",
       "126         -82.955597  \n",
       "127         -97.239899  \n",
       "128           8.549170  \n",
       "\n",
       "[129 rows x 5 columns]"
      ],
      "text/html": "<div>\n<style scoped>\n    .dataframe tbody tr th:only-of-type {\n        vertical-align: middle;\n    }\n\n    .dataframe tbody tr th {\n        vertical-align: top;\n    }\n\n    .dataframe thead th {\n        text-align: right;\n    }\n</style>\n<table border=\"1\" class=\"dataframe\">\n  <thead>\n    <tr style=\"text-align: right;\">\n      <th></th>\n      <th>Aircraft type</th>\n      <th>Distance (km)</th>\n      <th>Frequency (days/wk)</th>\n      <th>Arrival latitude</th>\n      <th>Arrival longitude</th>\n    </tr>\n  </thead>\n  <tbody>\n    <tr>\n      <th>0</th>\n      <td>789</td>\n      <td>11132</td>\n      <td>3</td>\n      <td>24.433001</td>\n      <td>54.651100</td>\n    </tr>\n    <tr>\n      <th>1</th>\n      <td>333</td>\n      <td>5987</td>\n      <td>7</td>\n      <td>52.308601</td>\n      <td>4.763890</td>\n    </tr>\n    <tr>\n      <th>2</th>\n      <td>320</td>\n      <td>3382</td>\n      <td>2</td>\n      <td>17.136700</td>\n      <td>-61.792702</td>\n    </tr>\n    <tr>\n      <th>3</th>\n      <td>320</td>\n      <td>3577</td>\n      <td>2</td>\n      <td>12.501400</td>\n      <td>-70.015198</td>\n    </tr>\n    <tr>\n      <th>4</th>\n      <td>789</td>\n      <td>8140</td>\n      <td>3</td>\n      <td>37.936401</td>\n      <td>23.944500</td>\n    </tr>\n    <tr>\n      <th>...</th>\n      <td>...</td>\n      <td>...</td>\n      <td>...</td>\n      <td>...</td>\n      <td>...</td>\n    </tr>\n    <tr>\n      <th>124</th>\n      <td>E75</td>\n      <td>580</td>\n      <td>7</td>\n      <td>38.852100</td>\n      <td>-77.037697</td>\n    </tr>\n    <tr>\n      <th>125</th>\n      <td>319</td>\n      <td>1893</td>\n      <td>7</td>\n      <td>26.683201</td>\n      <td>-80.095596</td>\n    </tr>\n    <tr>\n      <th>126</th>\n      <td>DH3</td>\n      <td>296</td>\n      <td>6</td>\n      <td>42.275600</td>\n      <td>-82.955597</td>\n    </tr>\n    <tr>\n      <th>127</th>\n      <td>320</td>\n      <td>1517</td>\n      <td>7</td>\n      <td>49.910000</td>\n      <td>-97.239899</td>\n    </tr>\n    <tr>\n      <th>128</th>\n      <td>789</td>\n      <td>6496</td>\n      <td>7</td>\n      <td>47.464699</td>\n      <td>8.549170</td>\n    </tr>\n  </tbody>\n</table>\n<p>129 rows × 5 columns</p>\n</div>"
     },
     "metadata": {},
     "execution_count": 7
    }
   ],
   "source": [
    "# add latitude and longitude features\n",
    "arrival_lat_long = yyz_routes_df['Arrival city'].apply(lambda x: airports_df.loc[x].to_numpy())\n",
    "arrival_lat_long = pd.DataFrame(arrival_lat_long.to_list(), index=arrival_lat_long.index)\n",
    "yyz_routes_df[['Arrival latitude', 'Arrival longitude']] = arrival_lat_long\n",
    "\n",
    "# drop departure city feature since it is constant\n",
    "yyz_routes_df.drop(columns='Departure city', inplace=True)\n",
    "\n",
    "# drop arrival city feature since it is replace by lat/long\n",
    "yyz_routes_df.drop(columns='Arrival city', inplace=True)\n",
    "yyz_routes_df"
   ]
  },
  {
   "cell_type": "code",
   "execution_count": 8,
   "metadata": {},
   "outputs": [
    {
     "output_type": "execute_result",
     "data": {
      "text/plain": [
       "Aircraft type\n",
       "319    29\n",
       "789    18\n",
       "320    16\n",
       "321    15\n",
       "E75    12\n",
       "333    10\n",
       "CRJ     9\n",
       "DH3     6\n",
       "CR9     5\n",
       "77W     4\n",
       "788     2\n",
       "763     1\n",
       "77L     1\n",
       "DH4     1\n",
       "dtype: int64"
      ]
     },
     "metadata": {},
     "execution_count": 8
    }
   ],
   "source": [
    "# number of different aircraft types\n",
    "yyz_routes_df.value_counts('Aircraft type')"
   ]
  },
  {
   "cell_type": "code",
   "execution_count": 9,
   "metadata": {},
   "outputs": [
    {
     "output_type": "execute_result",
     "data": {
      "text/plain": [
       "    Aircraft type  Distance (km)  Frequency (days/wk)  Arrival latitude  \\\n",
       "0             789          11132                    3         24.433001   \n",
       "1             333           5987                    7         52.308601   \n",
       "2             320           3382                    2         17.136700   \n",
       "3             320           3577                    2         12.501400   \n",
       "4             789           8140                    3         37.936401   \n",
       "..            ...            ...                  ...               ...   \n",
       "124           E75            580                    7         38.852100   \n",
       "125           319           1893                    7         26.683201   \n",
       "126           DH3            296                    6         42.275600   \n",
       "127           320           1517                    7         49.910000   \n",
       "128           789           6496                    7         47.464699   \n",
       "\n",
       "     Arrival longitude Aircraft Category  \n",
       "0            54.651100                 1  \n",
       "1             4.763890                 1  \n",
       "2           -61.792702                 0  \n",
       "3           -70.015198                 0  \n",
       "4            23.944500                 1  \n",
       "..                 ...               ...  \n",
       "124         -77.037697                 0  \n",
       "125         -80.095596                 0  \n",
       "126         -82.955597                 2  \n",
       "127         -97.239899                 0  \n",
       "128           8.549170                 1  \n",
       "\n",
       "[129 rows x 6 columns]"
      ],
      "text/html": "<div>\n<style scoped>\n    .dataframe tbody tr th:only-of-type {\n        vertical-align: middle;\n    }\n\n    .dataframe tbody tr th {\n        vertical-align: top;\n    }\n\n    .dataframe thead th {\n        text-align: right;\n    }\n</style>\n<table border=\"1\" class=\"dataframe\">\n  <thead>\n    <tr style=\"text-align: right;\">\n      <th></th>\n      <th>Aircraft type</th>\n      <th>Distance (km)</th>\n      <th>Frequency (days/wk)</th>\n      <th>Arrival latitude</th>\n      <th>Arrival longitude</th>\n      <th>Aircraft Category</th>\n    </tr>\n  </thead>\n  <tbody>\n    <tr>\n      <th>0</th>\n      <td>789</td>\n      <td>11132</td>\n      <td>3</td>\n      <td>24.433001</td>\n      <td>54.651100</td>\n      <td>1</td>\n    </tr>\n    <tr>\n      <th>1</th>\n      <td>333</td>\n      <td>5987</td>\n      <td>7</td>\n      <td>52.308601</td>\n      <td>4.763890</td>\n      <td>1</td>\n    </tr>\n    <tr>\n      <th>2</th>\n      <td>320</td>\n      <td>3382</td>\n      <td>2</td>\n      <td>17.136700</td>\n      <td>-61.792702</td>\n      <td>0</td>\n    </tr>\n    <tr>\n      <th>3</th>\n      <td>320</td>\n      <td>3577</td>\n      <td>2</td>\n      <td>12.501400</td>\n      <td>-70.015198</td>\n      <td>0</td>\n    </tr>\n    <tr>\n      <th>4</th>\n      <td>789</td>\n      <td>8140</td>\n      <td>3</td>\n      <td>37.936401</td>\n      <td>23.944500</td>\n      <td>1</td>\n    </tr>\n    <tr>\n      <th>...</th>\n      <td>...</td>\n      <td>...</td>\n      <td>...</td>\n      <td>...</td>\n      <td>...</td>\n      <td>...</td>\n    </tr>\n    <tr>\n      <th>124</th>\n      <td>E75</td>\n      <td>580</td>\n      <td>7</td>\n      <td>38.852100</td>\n      <td>-77.037697</td>\n      <td>0</td>\n    </tr>\n    <tr>\n      <th>125</th>\n      <td>319</td>\n      <td>1893</td>\n      <td>7</td>\n      <td>26.683201</td>\n      <td>-80.095596</td>\n      <td>0</td>\n    </tr>\n    <tr>\n      <th>126</th>\n      <td>DH3</td>\n      <td>296</td>\n      <td>6</td>\n      <td>42.275600</td>\n      <td>-82.955597</td>\n      <td>2</td>\n    </tr>\n    <tr>\n      <th>127</th>\n      <td>320</td>\n      <td>1517</td>\n      <td>7</td>\n      <td>49.910000</td>\n      <td>-97.239899</td>\n      <td>0</td>\n    </tr>\n    <tr>\n      <th>128</th>\n      <td>789</td>\n      <td>6496</td>\n      <td>7</td>\n      <td>47.464699</td>\n      <td>8.549170</td>\n      <td>1</td>\n    </tr>\n  </tbody>\n</table>\n<p>129 rows × 6 columns</p>\n</div>"
     },
     "metadata": {},
     "execution_count": 9
    }
   ],
   "source": [
    "# replace 'Aircraft type' feature with aircraft categories identified using KMeans model\n",
    "with open('../cluster/identifiers_to_cat.p', 'rb') as f:\n",
    "    identifiers_to_cat = pickle.load(f)\n",
    "\n",
    "yyz_routes_df['Aircraft Category'] = yyz_routes_df['Aircraft type'].apply(lambda x: identifiers_to_cat[x])\n",
    "yyz_routes_df['Aircraft Category'] = yyz_routes_df['Aircraft Category'].astype('category')\n",
    "yyz_routes_df"
   ]
  },
  {
   "source": [
    "## Preprocessing"
   ],
   "cell_type": "markdown",
   "metadata": {}
  },
  {
   "cell_type": "code",
   "execution_count": 10,
   "metadata": {},
   "outputs": [],
   "source": [
    "# separate feature and label columns\n",
    "X = yyz_routes_df[['Distance (km)', 'Frequency (days/wk)', 'Arrival latitude', 'Arrival longitude']]\n",
    "y = yyz_routes_df['Aircraft Category']"
   ]
  },
  {
   "cell_type": "code",
   "execution_count": 11,
   "metadata": {},
   "outputs": [
    {
     "output_type": "execute_result",
     "data": {
      "text/plain": [
       "(129, 4)"
      ]
     },
     "metadata": {},
     "execution_count": 11
    }
   ],
   "source": [
    "X.shape"
   ]
  },
  {
   "cell_type": "code",
   "execution_count": 12,
   "metadata": {},
   "outputs": [
    {
     "output_type": "execute_result",
     "data": {
      "text/plain": [
       "(129,)"
      ]
     },
     "metadata": {},
     "execution_count": 12
    }
   ],
   "source": [
    "y.shape"
   ]
  },
  {
   "cell_type": "code",
   "execution_count": 13,
   "metadata": {},
   "outputs": [
    {
     "output_type": "execute_result",
     "data": {
      "text/plain": [
       "(103, 4)"
      ]
     },
     "metadata": {},
     "execution_count": 13
    }
   ],
   "source": [
    "# split into training and test data\n",
    "X_train, X_test, y_train, y_test = train_test_split(X, y, test_size=0.2, stratify=y)\n",
    "X_train.shape"
   ]
  },
  {
   "cell_type": "code",
   "execution_count": 14,
   "metadata": {},
   "outputs": [],
   "source": [
    "# scale training data\n",
    "scaler = StandardScaler()\n",
    "X_train_scaled = scaler.fit_transform(X_train)"
   ]
  },
  {
   "source": [
    "## Train a Model"
   ],
   "cell_type": "markdown",
   "metadata": {}
  },
  {
   "cell_type": "code",
   "execution_count": 15,
   "metadata": {},
   "outputs": [
    {
     "output_type": "execute_result",
     "data": {
      "text/plain": [
       "array([0.88571429, 0.94117647, 0.88235294])"
      ]
     },
     "metadata": {},
     "execution_count": 15
    }
   ],
   "source": [
    "from sklearn.ensemble import RandomForestClassifier\n",
    "from sklearn.model_selection import cross_val_score\n",
    "from sklearn.model_selection import cross_val_predict\n",
    "\n",
    "forest_clf = RandomForestClassifier()\n",
    "cross_val_score(forest_clf, X_train_scaled, y_train, cv=3)"
   ]
  },
  {
   "cell_type": "code",
   "execution_count": 16,
   "metadata": {},
   "outputs": [],
   "source": [
    "# this gives a good baseline but we can try to tune a few parameters\n",
    "# using GridSearchCV\n",
    "import numpy as np\n",
    "from sklearn.model_selection import GridSearchCV\n",
    "\n",
    "param_grid = [{\n",
    "    'n_estimators': np.arange(10, 200, step=10),\n",
    "    'bootstrap': [False, True],\n",
    "    'max_features': ['auto', 'sqrt'],\n",
    "    'max_depth': np.arange(10),\n",
    "}]\n",
    "\n",
    "grid_search = GridSearchCV(forest_clf, param_grid, cv=3)\n",
    "grid_search.fit(X_train_scaled, y_train);"
   ]
  },
  {
   "cell_type": "code",
   "execution_count": 17,
   "metadata": {},
   "outputs": [
    {
     "output_type": "execute_result",
     "data": {
      "text/plain": [
       "{'bootstrap': True, 'max_depth': 5, 'max_features': 'auto', 'n_estimators': 10}"
      ]
     },
     "metadata": {},
     "execution_count": 17
    }
   ],
   "source": [
    "# the best parameters\n",
    "grid_search.best_params_"
   ]
  },
  {
   "cell_type": "code",
   "execution_count": 18,
   "metadata": {},
   "outputs": [
    {
     "output_type": "execute_result",
     "data": {
      "text/plain": [
       "0.9126050420168067"
      ]
     },
     "metadata": {},
     "execution_count": 18
    }
   ],
   "source": [
    "# accuracy of best model\n",
    "grid_search.best_score_"
   ]
  },
  {
   "cell_type": "code",
   "execution_count": 19,
   "metadata": {},
   "outputs": [],
   "source": [
    "from sklearn.pipeline import Pipeline\n",
    "\n",
    "# construct pipeline using best parameters\n",
    "pipeline = Pipeline([\n",
    "    ('scaler', StandardScaler()),\n",
    "    ('classifier', RandomForestClassifier(**grid_search.best_params_))\n",
    "])\n",
    "\n",
    "pipeline.fit(X_train, y_train);"
   ]
  },
  {
   "source": [
    "## Evaluate on Test Set"
   ],
   "cell_type": "markdown",
   "metadata": {}
  },
  {
   "cell_type": "code",
   "execution_count": 20,
   "metadata": {},
   "outputs": [
    {
     "output_type": "execute_result",
     "data": {
      "text/plain": [
       "0.9615384615384616"
      ]
     },
     "metadata": {},
     "execution_count": 20
    }
   ],
   "source": [
    "from sklearn.metrics import accuracy_score\n",
    "\n",
    "# calculate accuracy of model on test set\n",
    "y_test_pred = pipeline.predict(X_test)\n",
    "accuracy_score(y_test, y_test_pred)"
   ]
  },
  {
   "cell_type": "code",
   "execution_count": 21,
   "metadata": {},
   "outputs": [
    {
     "output_type": "stream",
     "name": "stdout",
     "text": [
      "Precision: 0.9615384615384616\nRecall: 0.9615384615384616\n"
     ]
    },
    {
     "output_type": "display_data",
     "data": {
      "text/plain": "array([[17,  0,  0],\n       [ 0,  7,  0],\n       [ 1,  0,  1]])"
     },
     "metadata": {}
    }
   ],
   "source": [
    "from sklearn.metrics import confusion_matrix, precision_score, recall_score\n",
    "\n",
    "# compute precision and recall scores\n",
    "precision = precision_score(y_test, y_test_pred, average='micro')\n",
    "print(f'Precision: {precision}')\n",
    "\n",
    "recall = recall_score(y_test, y_test_pred, average='micro')\n",
    "print(f'Recall: {recall}')\n",
    "\n",
    "# generate confusion matrix\n",
    "display(confusion_matrix(y_test, y_test_pred))"
   ]
  },
  {
   "cell_type": "code",
   "execution_count": 22,
   "metadata": {},
   "outputs": [],
   "source": [
    "# save model\n",
    "with open('aircraft_type_predictor.p', 'wb') as f:\n",
    "    pickle.dump(pipeline, f)"
   ]
  },
  {
   "source": [
    "## Predict a New Route\n",
    "We will use our clustering and classification models to predict the ideal aicraft to serve a new route between Toronto (YYZ) and Seattle (SEA) that is served daily."
   ],
   "cell_type": "markdown",
   "metadata": {}
  },
  {
   "cell_type": "code",
   "execution_count": 23,
   "metadata": {},
   "outputs": [
    {
     "output_type": "execute_result",
     "data": {
      "text/plain": [
       "['77W', '77L', '333', '789', '788', '763']"
      ]
     },
     "metadata": {},
     "execution_count": 23
    }
   ],
   "source": [
    "from predict_aircraft_type import predict_aircraft_type\n",
    "\n",
    "# load our aicraft model to class id map\n",
    "with open('../cluster/identifiers_to_cat.p', 'rb') as f:\n",
    "    aircraft_id_to_class_map = pickle.load(f)\n",
    "\n",
    "predict_aircraft_type(\n",
    "    model_path='aircraft_type_predictor.p',\n",
    "    dest_airport_code='SEA',\n",
    "    aircraft_identifier_map=aircraft_id_to_class_map,\n",
    "    n_days_with_flights=7\n",
    ")"
   ]
  },
  {
   "source": [
    "Based on our model, we should be using a long range widebody aircraft to serve this new route"
   ],
   "cell_type": "markdown",
   "metadata": {}
  }
 ]
}